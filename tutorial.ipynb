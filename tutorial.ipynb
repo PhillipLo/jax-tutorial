{
 "cells": [
  {
   "cell_type": "markdown",
   "metadata": {},
   "source": [
    "This is a tutorial on JAX, a JIT-compiled differentiable computing library. [See here](https://jax.readthedocs.io/en/latest/) for the reference documentation."
   ]
  },
  {
   "cell_type": "code",
   "execution_count": 2,
   "metadata": {},
   "outputs": [],
   "source": [
    "# RUN THIS FIRST, prevent JAX from eating up GPU memory\n",
    "import os\n",
    "os.environ[\"CUDA_VISIBLE_DEVICES\"] = \"-1\""
   ]
  },
  {
   "cell_type": "markdown",
   "metadata": {},
   "source": [
    "# The Basics\n",
    "\n",
    "JAX comes with its own version of `numpy`, and `jnp` arithmetic is almost identitcal to `np` arithmeic."
   ]
  },
  {
   "cell_type": "code",
   "execution_count": 3,
   "metadata": {},
   "outputs": [
    {
     "name": "stderr",
     "output_type": "stream",
     "text": [
      "WARNING:absl:No GPU/TPU found, falling back to CPU. (Set TF_CPP_MIN_LOG_LEVEL=0 and rerun for more info.)\n"
     ]
    },
    {
     "name": "stdout",
     "output_type": "stream",
     "text": [
      "with numpy: [ 2.  5. 19.]\n",
      "with jax: [ 2.  5. 19.]\n"
     ]
    }
   ],
   "source": [
    "import numpy as np\n",
    "import jax.numpy as jnp\n",
    "\n",
    "x = np.array([1., 2., 3.])\n",
    "y = np.array([0., 1., 5.])\n",
    "z = np.array([2., 3., 4.])\n",
    "print(f\"with numpy: {x * y + z}\")\n",
    "\n",
    "\n",
    "x_ = jnp.array([1., 2., 3.])\n",
    "y_ = jnp.array([0., 1., 5.])\n",
    "z_ = jnp.array([2., 3., 4.])\n",
    "print(f\"with jax: {x_ * y_ + z_}\")"
   ]
  },
  {
   "cell_type": "markdown",
   "metadata": {},
   "source": [
    "Indeed, almost every conceivable `numpy` function has a `jax.numpy` counterpart:"
   ]
  },
  {
   "cell_type": "code",
   "execution_count": 4,
   "metadata": {},
   "outputs": [
    {
     "name": "stdout",
     "output_type": "stream",
     "text": [
      "np_linspace: [0.  0.5 1. ]\n",
      "jnp_linspace: [0.  0.5 1. ]\n",
      "\n",
      "np_2norm: 5.5194\n",
      "jnp_2norm: 5.5194\n",
      "\n"
     ]
    }
   ],
   "source": [
    "np_linspace = np.linspace(0, 1, 3)\n",
    "jnp_linspace = jnp.linspace(0, 1, 3)\n",
    "\n",
    "print(f\"np_linspace: {np_linspace}\")\n",
    "print(f\"jnp_linspace: {jnp_linspace}\\n\")\n",
    "\n",
    "A = np.random.normal(size = (10, 10))\n",
    "np_2norm = np.linalg.norm(A, ord = 2)\n",
    "jnp_2norm = jnp.linalg.norm(A, ord = 2) # notice that we can feed np array into jnp function!\n",
    "\n",
    "print(f\"np_2norm: {np_2norm:.4f}\")\n",
    "print(f\"jnp_2norm: {jnp_2norm:.4f}\\n\")"
   ]
  },
  {
   "cell_type": "markdown",
   "metadata": {},
   "source": [
    "Other packages like `matplotlib` can accept `jnp` arrays:"
   ]
  },
  {
   "cell_type": "code",
   "execution_count": 5,
   "metadata": {},
   "outputs": [
    {
     "data": {
      "text/plain": [
       "[<matplotlib.lines.Line2D at 0x7fa2d433c8e0>]"
      ]
     },
     "execution_count": 5,
     "metadata": {},
     "output_type": "execute_result"
    },
    {
     "data": {
      "image/png": "[encoded data removed]",
      "text/plain": [
       "<Figure size 432x288 with 1 Axes>"
      ]
     },
     "metadata": {
      "needs_background": "light"
     },
     "output_type": "display_data"
    }
   ],
   "source": [
    "import matplotlib.pyplot as plt\n",
    "\n",
    "x = jnp.linspace(0, 2 * jnp.pi)\n",
    "y = jnp.sin(x)\n",
    "plt.plot(x, y)"
   ]
  },
  {
   "cell_type": "markdown",
   "metadata": {},
   "source": [
    "One key difference is for RNG, JAX requires the entropy to be fed in explicitly using a key, which must be split into a new key each time! [Details here](https://jax.readthedocs.io/en/latest/notebooks/Common_Gotchas_in_JAX.html#jax-prng)."
   ]
  },
  {
   "cell_type": "code",
   "execution_count": 6,
   "metadata": {},
   "outputs": [
    {
     "name": "stdout",
     "output_type": "stream",
     "text": [
      "A: [[ 1.8160863  -0.75488514]\n",
      " [ 0.33988908 -0.53483534]]\n",
      "B: [[ 1.8160863  -0.75488514]\n",
      " [ 0.33988908 -0.53483534]]\n",
      "C: [[ 0.13893168  1.370668  ]\n",
      " [-0.53116107  0.02033782]]\n",
      "D: [[ 1.1378784  -0.14331433]\n",
      " [-0.59153634  0.79466224]]\n"
     ]
    }
   ],
   "source": [
    "from jax import random\n",
    "\n",
    "key = random.PRNGKey(0) # initialize key from your favorite integer\n",
    "\n",
    "A = random.normal(key, shape = (2, 2))\n",
    "print(f\"A: {A}\")\n",
    "B = random.normal(key, shape = (2, 2)) # will get the same thing as A!\n",
    "print(f\"B: {B}\")\n",
    "\n",
    "key, subkey = random.split(key) # new key and subkey are different from original key\n",
    "C = random.normal(key, shape = (2, 2))\n",
    "print(f\"C: {C}\")\n",
    "D = random.normal(subkey, shape = (2, 2))\n",
    "print(f\"D: {D}\")\n"
   ]
  },
  {
   "cell_type": "markdown",
   "metadata": {},
   "source": [
    "Another difference is in how updating arrays works; see [the documentation](https://jax.readthedocs.io/en/latest/_autosummary/jax.numpy.ndarray.at.html#jax.numpy.ndarray.at) for more details:"
   ]
  },
  {
   "cell_type": "code",
   "execution_count": 7,
   "metadata": {},
   "outputs": [
    {
     "name": "stdout",
     "output_type": "stream",
     "text": [
      "this is A: [1 2 3]\n",
      "this is the new A in numpy: [0 2 3]\n"
     ]
    }
   ],
   "source": [
    "# in numpy, we can do in-place array updates:\n",
    "A = np.array([1, 2, 3])\n",
    "print(f\"this is A: {A}\")\n",
    "\n",
    "A[0] = 0\n",
    "print(f\"this is the new A in numpy: {A}\")\n"
   ]
  },
  {
   "cell_type": "code",
   "execution_count": 8,
   "metadata": {},
   "outputs": [
    {
     "name": "stdout",
     "output_type": "stream",
     "text": [
      "this is A: [1 2 3]\n"
     ]
    },
    {
     "ename": "TypeError",
     "evalue": "'<class 'jaxlib.xla_extension.DeviceArray'>' object does not support item assignment. JAX arrays are immutable. Instead of ``x[idx] = y``, use ``x = x.at[idx].set(y)`` or another .at[] method: https://jax.readthedocs.io/en/latest/_autosummary/jax.numpy.ndarray.at.html",
     "output_type": "error",
     "traceback": [
      "\u001b[0;31m---------------------------------------------------------------------------\u001b[0m",
      "\u001b[0;31mTypeError\u001b[0m                                 Traceback (most recent call last)",
      "\u001b[1;32m/data/philliplo125/jax-tutorial/tutorial.ipynb Cell 13'\u001b[0m in \u001b[0;36m<cell line: 5>\u001b[0;34m()\u001b[0m\n\u001b[1;32m      <a href='vscode-notebook-cell://ssh-remote%2Blift2/data/philliplo125/jax-tutorial/tutorial.ipynb#ch0000012vscode-remote?line=1'>2</a>\u001b[0m A \u001b[39m=\u001b[39m jnp\u001b[39m.\u001b[39marray([\u001b[39m1\u001b[39m, \u001b[39m2\u001b[39m, \u001b[39m3\u001b[39m])\n\u001b[1;32m      <a href='vscode-notebook-cell://ssh-remote%2Blift2/data/philliplo125/jax-tutorial/tutorial.ipynb#ch0000012vscode-remote?line=2'>3</a>\u001b[0m \u001b[39mprint\u001b[39m(\u001b[39mf\u001b[39m\u001b[39m\"\u001b[39m\u001b[39mthis is A: \u001b[39m\u001b[39m{\u001b[39;00mA\u001b[39m}\u001b[39;00m\u001b[39m\"\u001b[39m)\n\u001b[0;32m----> <a href='vscode-notebook-cell://ssh-remote%2Blift2/data/philliplo125/jax-tutorial/tutorial.ipynb#ch0000012vscode-remote?line=4'>5</a>\u001b[0m A[\u001b[39m0\u001b[39m] \u001b[39m=\u001b[39m \u001b[39m0\u001b[39m\n",
      "File \u001b[0;32m~/anaconda3/envs/jax-tutorial/lib/python3.9/site-packages/jax/_src/numpy/lax_numpy.py:4512\u001b[0m, in \u001b[0;36m_unimplemented_setitem\u001b[0;34m(self, i, x)\u001b[0m\n\u001b[1;32m   <a href='file:///home/philliplo125/anaconda3/envs/jax-tutorial/lib/python3.9/site-packages/jax/_src/numpy/lax_numpy.py?line=4506'>4507</a>\u001b[0m \u001b[39mdef\u001b[39;00m \u001b[39m_unimplemented_setitem\u001b[39m(\u001b[39mself\u001b[39m, i, x):\n\u001b[1;32m   <a href='file:///home/philliplo125/anaconda3/envs/jax-tutorial/lib/python3.9/site-packages/jax/_src/numpy/lax_numpy.py?line=4507'>4508</a>\u001b[0m   msg \u001b[39m=\u001b[39m (\u001b[39m\"\u001b[39m\u001b[39m'\u001b[39m\u001b[39m{}\u001b[39;00m\u001b[39m'\u001b[39m\u001b[39m object does not support item assignment. JAX arrays are \u001b[39m\u001b[39m\"\u001b[39m\n\u001b[1;32m   <a href='file:///home/philliplo125/anaconda3/envs/jax-tutorial/lib/python3.9/site-packages/jax/_src/numpy/lax_numpy.py?line=4508'>4509</a>\u001b[0m          \u001b[39m\"\u001b[39m\u001b[39mimmutable. Instead of ``x[idx] = y``, use ``x = x.at[idx].set(y)`` \u001b[39m\u001b[39m\"\u001b[39m\n\u001b[1;32m   <a href='file:///home/philliplo125/anaconda3/envs/jax-tutorial/lib/python3.9/site-packages/jax/_src/numpy/lax_numpy.py?line=4509'>4510</a>\u001b[0m          \u001b[39m\"\u001b[39m\u001b[39mor another .at[] method: \u001b[39m\u001b[39m\"\u001b[39m\n\u001b[1;32m   <a href='file:///home/philliplo125/anaconda3/envs/jax-tutorial/lib/python3.9/site-packages/jax/_src/numpy/lax_numpy.py?line=4510'>4511</a>\u001b[0m          \u001b[39m\"\u001b[39m\u001b[39mhttps://jax.readthedocs.io/en/latest/_autosummary/jax.numpy.ndarray.at.html\u001b[39m\u001b[39m\"\u001b[39m)\n\u001b[0;32m-> <a href='file:///home/philliplo125/anaconda3/envs/jax-tutorial/lib/python3.9/site-packages/jax/_src/numpy/lax_numpy.py?line=4511'>4512</a>\u001b[0m   \u001b[39mraise\u001b[39;00m \u001b[39mTypeError\u001b[39;00m(msg\u001b[39m.\u001b[39mformat(\u001b[39mtype\u001b[39m(\u001b[39mself\u001b[39m)))\n",
      "\u001b[0;31mTypeError\u001b[0m: '<class 'jaxlib.xla_extension.DeviceArray'>' object does not support item assignment. JAX arrays are immutable. Instead of ``x[idx] = y``, use ``x = x.at[idx].set(y)`` or another .at[] method: https://jax.readthedocs.io/en/latest/_autosummary/jax.numpy.ndarray.at.html"
     ]
    }
   ],
   "source": [
    "# in jax, this doesn't work:\n",
    "A = jnp.array([1, 2, 3])\n",
    "print(f\"this is A: {A}\")\n",
    "\n",
    "A[0] = 0 # this will throw an error"
   ]
  },
  {
   "cell_type": "code",
   "execution_count": null,
   "metadata": {},
   "outputs": [
    {
     "name": "stdout",
     "output_type": "stream",
     "text": [
      "this is the new A: [0 2 3]\n"
     ]
    }
   ],
   "source": [
    "# instead, we have to do this:\n",
    "\n",
    "A = A.at[0].set(0)\n",
    "print(f\"this is the new A: {A}\")"
   ]
  },
  {
   "cell_type": "markdown",
   "metadata": {},
   "source": [
    "# Computing Derivatives in JAX\n",
    "\n",
    "JAX is super functional: the `grad()` function is an operator that maps a scalar-valued function to its derivative:"
   ]
  },
  {
   "cell_type": "code",
   "execution_count": null,
   "metadata": {},
   "outputs": [
    {
     "name": "stdout",
     "output_type": "stream",
     "text": [
      "sin'(1): 0.5403\n",
      "cos(1): 0.5403\n"
     ]
    }
   ],
   "source": [
    "from jax import grad\n",
    "\n",
    "sin_grad = grad(jnp.sin)\n",
    "print(f\"sin'(1): {sin_grad(1.0):.4f}\")\n",
    "print(f\"cos(1): {jnp.cos(1.0):.4f}\")"
   ]
  },
  {
   "cell_type": "markdown",
   "metadata": {},
   "source": [
    "We can get fancy with function composition; if $f(x) = \\sin(x^2) + 3x^2$, then $f'(x) = 2x\\cos(x^2) + 6x$."
   ]
  },
  {
   "cell_type": "code",
   "execution_count": null,
   "metadata": {},
   "outputs": [
    {
     "name": "stdout",
     "output_type": "stream",
     "text": [
      "manual f'(1): 9.3854\n",
      "auto f'(1): 9.3854\n"
     ]
    }
   ],
   "source": [
    "def f(x): \n",
    "  return jnp.sin(x**2) + 3 * x**2\n",
    "\n",
    "def grad_f_manual(x):\n",
    "  return 2 * x * jnp.cos(x**2) + 6 * x\n",
    "\n",
    "grad_f_auto = grad(f)\n",
    "\n",
    "x = 2.0\n",
    "print(f\"manual f'(1): {grad_f_manual(x):.4f}\")\n",
    "print(f\"auto f'(1): {grad_f_auto(x):.4f}\")\n"
   ]
  },
  {
   "cell_type": "markdown",
   "metadata": {},
   "source": [
    "We can also take gradients of multivariable functions; if \n",
    "$$f(x, y, z) = x^2 + 3\\sin(y) + \\cos(z),$$ \n",
    "then \n",
    "$$\\nabla f(x, y, z) = (2x, 3\\cos(y), -\\sin(z)).$$"
   ]
  },
  {
   "cell_type": "code",
   "execution_count": null,
   "metadata": {},
   "outputs": [
    {
     "name": "stdout",
     "output_type": "stream",
     "text": [
      "manual f'(1): [ 4.         -2.9699774  -0.84147096]\n",
      "auto f'(1): [ 4.         -2.9699774  -0.84147096]\n"
     ]
    }
   ],
   "source": [
    "# denote X = (x, y, z)\n",
    "\n",
    "def f(X): \n",
    "  return X[0]**2 + 3 * jnp.sin(X[1]) + jnp.cos(X[2])\n",
    "\n",
    "def grad_f_manual(X):\n",
    "  return jnp.array([2 * X[0], 3 * jnp.cos(X[1]), -jnp.sin(X[2])])\n",
    "\n",
    "grad_f_auto = grad(f)\n",
    "\n",
    "X = jnp.array([2.0, 3.0, 1.0])\n",
    "print(f\"manual f'(1): {grad_f_manual(X)}\")\n",
    "print(f\"auto f'(1): {grad_f_auto(X)}\")"
   ]
  },
  {
   "cell_type": "markdown",
   "metadata": {},
   "source": [
    "We can also differentiate with respect to other Python containers, such as dictionaries:"
   ]
  },
  {
   "cell_type": "code",
   "execution_count": null,
   "metadata": {},
   "outputs": [
    {
     "name": "stdout",
     "output_type": "stream",
     "text": [
      "manual f'(1): [ 4.         -2.9699774  -0.84147096]\n",
      "auto f'(1): {'x': DeviceArray(4., dtype=float32, weak_type=True), 'y': DeviceArray(-2.9699774, dtype=float32, weak_type=True), 'z': DeviceArray(-0.84147096, dtype=float32, weak_type=True)}\n"
     ]
    }
   ],
   "source": [
    "def f(X):\n",
    "  return X['x']**2 + 3 * jnp.sin(X['y']) + jnp.cos(X['z'])\n",
    "\n",
    "def grad_f_manual(X):\n",
    "  return jnp.array([2 * X['x'], 3 * jnp.cos(X['y']), -jnp.sin(X['z'])])\n",
    "\n",
    "grad_f_auto = grad(f)\n",
    "\n",
    "X = {'x' : 2.0, 'y' : 3.0, 'z' : 1.0}\n",
    "print(f\"manual f'(1): {grad_f_manual(X)}\")\n",
    "print(f\"auto f'(1): {grad_f_auto(X)}\")"
   ]
  },
  {
   "cell_type": "markdown",
   "metadata": {},
   "source": [
    "Let's do a fancy example with multiple multivariate arguments; let\n",
    "$$ f(x, y) = \\|x\\|^2 + \\|y\\| + \\langle x, y\\rangle,$$\n",
    "so that\n",
    "\\begin{align*}\n",
    "  D_xf(x, y) &= 2x + y\\\\\n",
    "  D_yf(x, y) &= \\frac{y}{\\|y\\|} + x\n",
    "\\end{align*}"
   ]
  },
  {
   "cell_type": "code",
   "execution_count": null,
   "metadata": {},
   "outputs": [
    {
     "name": "stdout",
     "output_type": "stream",
     "text": [
      "derivative wrt x: [2. 3. 7.]\n",
      "manually computed: [2. 3. 7.]\n",
      "\n",
      "derivative wrt y: [1.        1.2928932 3.7071068]\n",
      "manually computed: [1.        1.2928932 3.7071068]\n"
     ]
    }
   ],
   "source": [
    "def f(x, y):\n",
    "  return jnp.linalg.norm(x)**2 + jnp.linalg.norm(y) + jnp.inner(x, y)\n",
    "\n",
    "Dxf = grad(f, 0) # take the derivative wrt the zeroth argument\n",
    "Dyf = grad(f, 1) # take the derivative wrt the first argument\n",
    "\n",
    "x = jnp.array([1., 2., 3.])\n",
    "y = jnp.array([0, -1., 1.])\n",
    "\n",
    "print(f\"derivative wrt x: {Dxf(x, y)}\")\n",
    "print(f\"manually computed: {2 * x + y}\\n\")\n",
    "print(f\"derivative wrt y: {Dyf(x, y)}\")\n",
    "print(f\"manually computed: {y / jnp.linalg.norm(y) + x}\")\n"
   ]
  },
  {
   "cell_type": "markdown",
   "metadata": {},
   "source": [
    "The `value_and_grad()` function is useful for first-order optimization methods:"
   ]
  },
  {
   "cell_type": "code",
   "execution_count": null,
   "metadata": {},
   "outputs": [
    {
     "name": "stdout",
     "output_type": "stream",
     "text": [
      "value: 9.0\n",
      "grad: 6.0\n"
     ]
    }
   ],
   "source": [
    "from jax import value_and_grad\n",
    "\n",
    "def f(x):\n",
    "  return x ** 2\n",
    "\n",
    "value, grad = value_and_grad(f)(3.0)\n",
    "print(f\"value: {value}\")\n",
    "print(f\"grad: {grad}\")"
   ]
  },
  {
   "cell_type": "markdown",
   "metadata": {},
   "source": [
    "# JVPs and VJPs"
   ]
  },
  {
   "cell_type": "markdown",
   "metadata": {},
   "source": [
    "Define\n",
    "\\begin{align*}\n",
    "  f(x, y) &= (x + 2y, \\sin(x)e^y, y^3),\\; f:\\mathbb{R}^2\\to\\mathbb{R}^3\\\\\n",
    "  Jf(x, y) &= \\begin{bmatrix} 1 & 2 \\\\ \\cos(x)e^y & \\sin(x)e^y\\\\ 0 & 3y^2\\end{bmatrix}\\in\\mathbb{R}^{3\\times 2}\n",
    "\\end{align*}\n",
    "We want to compute the Jacobian-vector product, which takes in a vector $(x, y)$ and a vector $v\\in\\mathbb{R}^2$, and computes $Jf(x,y)v$. JAX's `jvp()` can do this for us."
   ]
  },
  {
   "cell_type": "code",
   "execution_count": null,
   "metadata": {},
   "outputs": [
    {
     "name": "stdout",
     "output_type": "stream",
     "text": [
      "manually computed jvp: [ 8.       26.637676 36.      ]\n",
      "JAX computed jvp: [ 8.       26.637676 36.      ]\n"
     ]
    }
   ],
   "source": [
    "from jax import jvp\n",
    "\n",
    "def f(x):\n",
    "  return jnp.array([x[0] + 2 * x[1], jnp.sin(x[0]) * jnp.exp(x[1]), x[1]**3])\n",
    "\n",
    "def Jf_manual(x):\n",
    "  return jnp.array([\n",
    "    [1, 2], \n",
    "    [jnp.cos(x[0]) * jnp.exp(x[1]), jnp.sin(x[0]) * jnp.exp(x[1])],\n",
    "    [0, 3 * x[1] **2]\n",
    "  ])\n",
    "\n",
    "# compute the jvp manually\n",
    "def jvp_manual(x, v):\n",
    "  return Jf_manual(x) @ v\n",
    "\n",
    "x = jnp.array([1., 2.])\n",
    "v = jnp.array([2., 3.])\n",
    "\n",
    "print(f\"manually computed jvp: {jvp_manual(x, v)}\")\n",
    "\n",
    "# compute the jvp using jax.jvp():\n",
    "\n",
    "func_value, jvp_JAX = jvp(f, (x,), (v,)) # jvp returns both the function value and the jvp\n",
    "print(f\"JAX computed jvp: {jvp_JAX}\")\n"
   ]
  },
  {
   "cell_type": "markdown",
   "metadata": {},
   "source": [
    "What if we want the full Jacobian matrix? Remember that post-multiplying a matrix with the jth standard basis vector reveals the jth column of the matrix, so can construct the full $m\\times n$￼Jacobian matrix with $n$ JVPs:"
   ]
  },
  {
   "cell_type": "code",
   "execution_count": null,
   "metadata": {},
   "outputs": [
    {
     "name": "stdout",
     "output_type": "stream",
     "text": [
      "Jf with JVPs: \n",
      " [[ 1.          2.        ]\n",
      " [-8.35853291 18.26372719]\n",
      " [ 0.         27.        ]]\n",
      "Jf manual: \n",
      " [[ 1.        2.      ]\n",
      " [-8.358533 18.263727]\n",
      " [ 0.       27.      ]]\n"
     ]
    }
   ],
   "source": [
    "def Jf_JVPs(x): # compute the full Jacobian at x using JVPs\n",
    "  Jf = np.zeros(shape = (3, 2))\n",
    "  for j in range(2):\n",
    "    # compute the jth basis vector\n",
    "    ej = np.zeros(shape = 2)\n",
    "    ej[j] = 1\n",
    "\n",
    "    # set the jth column equal to JVP with v = ej\n",
    "    Jf[:, j] = jvp(f, (x,), (ej,))[1] # remember jvp returns function value and jvp\n",
    "\n",
    "  return Jf\n",
    "\n",
    "x = jnp.array([2., 3.])\n",
    "\n",
    "print(f\"Jf with JVPs: \\n {Jf_JVPs(x)}\")\n",
    "print(f\"Jf manual: \\n {Jf_manual(x)}\")"
   ]
  },
  {
   "cell_type": "markdown",
   "metadata": {},
   "source": [
    "Up to some optimizations, this is basically what `jacfwd()` does:"
   ]
  },
  {
   "cell_type": "code",
   "execution_count": null,
   "metadata": {},
   "outputs": [
    {
     "name": "stdout",
     "output_type": "stream",
     "text": [
      "Jf with jacfwd(): \n",
      " [[ 1.        2.      ]\n",
      " [-8.358533 18.263727]\n",
      " [ 0.       27.      ]]\n"
     ]
    }
   ],
   "source": [
    "from jax import jacfwd\n",
    "\n",
    "print(f\"Jf with jacfwd(): \\n {jacfwd(f)(x)}\")"
   ]
  },
  {
   "cell_type": "markdown",
   "metadata": {},
   "source": [
    "Now let's compute the vector-Jacobian product, which takes in a vector $(x, y)$ and a vector $v\\in\\mathbb{R}^3$, and computes $v^TJf(x,y)$. JAX's `vjp()` can do this for us."
   ]
  },
  {
   "cell_type": "code",
   "execution_count": null,
   "metadata": {},
   "outputs": [
    {
     "name": "stdout",
     "output_type": "stream",
     "text": [
      "manually computed jvp: [13.976972 70.65303 ]\n",
      "JAX computed jvp: (DeviceArray([13.976972, 70.65303 ], dtype=float32),)\n"
     ]
    }
   ],
   "source": [
    "from jax import vjp\n",
    "\n",
    "def f(x):\n",
    "  return jnp.array([x[0] + 2 * x[1], jnp.sin(x[0]) * jnp.exp(x[1]), x[1]**3])\n",
    "\n",
    "def Jf_manual(x):\n",
    "  return jnp.array([\n",
    "    [1, 2], \n",
    "    [jnp.cos(x[0]) * jnp.exp(x[1]), jnp.sin(x[0]) * jnp.exp(x[1])],\n",
    "    [0, 3 * x[1] **2]\n",
    "  ])\n",
    "\n",
    "# compute the vjp manually\n",
    "def vjp_manual(x, v):\n",
    "  return v @ Jf_manual(x)\n",
    "\n",
    "x = jnp.array([1., 2.])\n",
    "v = jnp.array([2., 3., 4.])\n",
    "\n",
    "print(f\"manually computed jvp: {vjp_manual(x, v)}\")\n",
    "\n",
    "# compute the jvp using jax.jvp():\n",
    "\n",
    "func_value, vjp_JAX = vjp(f, x) # vjp signature is a bit different from jvp\n",
    "print(f\"JAX computed jvp: {vjp_JAX(v)}\")\n"
   ]
  },
  {
   "cell_type": "markdown",
   "metadata": {},
   "source": [
    "To get the full Jacobian matrix using VJPs, recall that premultiplying a matrix by the ith standard basis vector reveals the ith row, so we can construct the full $m\\times n$ Jacobian using $n$ JVPs:"
   ]
  },
  {
   "cell_type": "code",
   "execution_count": null,
   "metadata": {},
   "outputs": [
    {
     "name": "stdout",
     "output_type": "stream",
     "text": [
      "Jf with VJPs: \n",
      " [[ 1.          2.        ]\n",
      " [-8.35853291 18.26372719]\n",
      " [ 0.         27.        ]]\n",
      "Jf manual: \n",
      " [[ 1.        2.      ]\n",
      " [-8.358533 18.263727]\n",
      " [ 0.       27.      ]]\n"
     ]
    }
   ],
   "source": [
    "def Jf_VJPs(x): # compute the full Jacobian at x using VJPs\n",
    "  Jf = np.zeros(shape = (3, 2))\n",
    "  for i in range(3):\n",
    "    # compute the ith basis vector\n",
    "    ei = np.zeros(shape = 3)\n",
    "    ei[i] = 1\n",
    "\n",
    "    # set the ith column equal to JVP with v = ej\n",
    "    Jf[i] = vjp(f, x)[1](ei)[0]\n",
    "  return Jf\n",
    "\n",
    "x = jnp.array([2., 3.])\n",
    "\n",
    "print(f\"Jf with VJPs: \\n {Jf_VJPs(x)}\")\n",
    "print(f\"Jf manual: \\n {Jf_manual(x)}\")"
   ]
  },
  {
   "cell_type": "markdown",
   "metadata": {},
   "source": [
    "Up to some optimizations, this is basically what `jacrev()` does:"
   ]
  },
  {
   "cell_type": "code",
   "execution_count": null,
   "metadata": {},
   "outputs": [
    {
     "name": "stdout",
     "output_type": "stream",
     "text": [
      "Jf with jacrev(): \n",
      " [[ 1.        2.      ]\n",
      " [-8.358533 18.263727]\n",
      " [ 0.       27.      ]]\n"
     ]
    }
   ],
   "source": [
    "from jax import jacrev\n",
    "\n",
    "print(f\"Jf with jacrev(): \\n {jacrev(f)(x)}\")"
   ]
  }
 ],
 "metadata": {
  "interpreter": {
   "hash": "787ade67a52391d3267486c0884a53ab45ebe754b3cfa5bb64a19eb88903a68b"
  },
  "kernelspec": {
   "display_name": "Python 3.9.12 ('jax-tutorial')",
   "language": "python",
   "name": "python3"
  },
  "language_info": {
   "codemirror_mode": {
    "name": "ipython",
    "version": 3
   },
   "file_extension": ".py",
   "mimetype": "text/x-python",
   "name": "python",
   "nbconvert_exporter": "python",
   "pygments_lexer": "ipython3",
   "version": "3.9.12"
  },
  "orig_nbformat": 4
 },
 "nbformat": 4,
 "nbformat_minor": 2
}
